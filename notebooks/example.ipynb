{
 "metadata": {
  "language_info": {
   "codemirror_mode": {
    "name": "ipython",
    "version": 3
   },
   "file_extension": ".py",
   "mimetype": "text/x-python",
   "name": "python",
   "nbconvert_exporter": "python",
   "pygments_lexer": "ipython3",
   "version": "3.8.9"
  },
  "orig_nbformat": 2,
  "kernelspec": {
   "name": "python389jvsc74a57bd0aee8b7b246df8f9039afb4144a1f6fd8d2ca17a180786b69acc140d282b71a49",
   "display_name": "Python 3.8.9 64-bit"
  },
  "metadata": {
   "interpreter": {
    "hash": "aee8b7b246df8f9039afb4144a1f6fd8d2ca17a180786b69acc140d282b71a49"
   }
  }
 },
 "nbformat": 4,
 "nbformat_minor": 2,
 "cells": [
  {
   "source": [
    "## Import Relevant Libraries"
   ],
   "cell_type": "markdown",
   "metadata": {}
  },
  {
   "cell_type": "code",
   "execution_count": 1,
   "metadata": {},
   "outputs": [],
   "source": [
    "import matplotlib.pyplot as plt\n",
    "import pandas as pd\n",
    "import numpy as np\n",
    "import os,sys,inspect\n",
    "current_dir = os.path.dirname(os.path.abspath(inspect.getfile(inspect.currentframe())))\n",
    "parent_dir = os.path.dirname(current_dir)\n",
    "sys.path.insert(0, parent_dir) \n",
    "import abtest"
   ]
  },
  {
   "cell_type": "code",
   "execution_count": 2,
   "metadata": {},
   "outputs": [
    {
     "output_type": "stream",
     "name": "stdout",
     "text": [
      "(184588, 5)\n"
     ]
    },
    {
     "output_type": "display_data",
     "data": {
      "text/plain": "   RecordID   IP Address  LoggedInFlag  ServerID  VisitPageFlag\n0         1  39.13.114.2             1         2              0\n1         2    13.3.25.8             1         1              0\n2         3  247.8.211.8             1         1              0\n3         4  124.8.220.3             0         3              0\n4         5  60.10.192.7             0         2              0",
      "text/html": "<div>\n<style scoped>\n    .dataframe tbody tr th:only-of-type {\n        vertical-align: middle;\n    }\n\n    .dataframe tbody tr th {\n        vertical-align: top;\n    }\n\n    .dataframe thead th {\n        text-align: right;\n    }\n</style>\n<table border=\"1\" class=\"dataframe\">\n  <thead>\n    <tr style=\"text-align: right;\">\n      <th></th>\n      <th>RecordID</th>\n      <th>IP Address</th>\n      <th>LoggedInFlag</th>\n      <th>ServerID</th>\n      <th>VisitPageFlag</th>\n    </tr>\n  </thead>\n  <tbody>\n    <tr>\n      <th>0</th>\n      <td>1</td>\n      <td>39.13.114.2</td>\n      <td>1</td>\n      <td>2</td>\n      <td>0</td>\n    </tr>\n    <tr>\n      <th>1</th>\n      <td>2</td>\n      <td>13.3.25.8</td>\n      <td>1</td>\n      <td>1</td>\n      <td>0</td>\n    </tr>\n    <tr>\n      <th>2</th>\n      <td>3</td>\n      <td>247.8.211.8</td>\n      <td>1</td>\n      <td>1</td>\n      <td>0</td>\n    </tr>\n    <tr>\n      <th>3</th>\n      <td>4</td>\n      <td>124.8.220.3</td>\n      <td>0</td>\n      <td>3</td>\n      <td>0</td>\n    </tr>\n    <tr>\n      <th>4</th>\n      <td>5</td>\n      <td>60.10.192.7</td>\n      <td>0</td>\n      <td>2</td>\n      <td>0</td>\n    </tr>\n  </tbody>\n</table>\n</div>"
     },
     "metadata": {}
    }
   ],
   "source": [
    "data = pd.read_csv(\"../grocerywebsiteabtestdata.csv\")\n",
    "print(data.shape)\n",
    "display(data.head())"
   ]
  },
  {
   "source": [
    "* RecordID -> Unique Identifier of the click\n",
    "* IP Address -> Address of the user \n",
    "* LoggedInFlag -> When users has an account and logged in \n",
    "* ServerID -> Server identifier that shows server routed through\n",
    "* VisitPageFlag -> Whether visit experiment page"
   ],
   "cell_type": "markdown",
   "metadata": {}
  },
  {
   "cell_type": "code",
   "execution_count": 3,
   "metadata": {},
   "outputs": [
    {
     "output_type": "stream",
     "name": "stdout",
     "text": [
      "(91619, 3)\n"
     ]
    },
    {
     "output_type": "display_data",
     "data": {
      "text/plain": "    IP Address    group  VisitPageFlag\n0  124.8.220.3  control              0\n1  60.10.192.7  control              0\n2   97.6.126.6  control              1\n3   32.6.213.1  control              0\n4  188.13.62.2  control              0",
      "text/html": "<div>\n<style scoped>\n    .dataframe tbody tr th:only-of-type {\n        vertical-align: middle;\n    }\n\n    .dataframe tbody tr th {\n        vertical-align: top;\n    }\n\n    .dataframe thead th {\n        text-align: right;\n    }\n</style>\n<table border=\"1\" class=\"dataframe\">\n  <thead>\n    <tr style=\"text-align: right;\">\n      <th></th>\n      <th>IP Address</th>\n      <th>group</th>\n      <th>VisitPageFlag</th>\n    </tr>\n  </thead>\n  <tbody>\n    <tr>\n      <th>0</th>\n      <td>124.8.220.3</td>\n      <td>control</td>\n      <td>0</td>\n    </tr>\n    <tr>\n      <th>1</th>\n      <td>60.10.192.7</td>\n      <td>control</td>\n      <td>0</td>\n    </tr>\n    <tr>\n      <th>2</th>\n      <td>97.6.126.6</td>\n      <td>control</td>\n      <td>1</td>\n    </tr>\n    <tr>\n      <th>3</th>\n      <td>32.6.213.1</td>\n      <td>control</td>\n      <td>0</td>\n    </tr>\n    <tr>\n      <th>4</th>\n      <td>188.13.62.2</td>\n      <td>control</td>\n      <td>0</td>\n    </tr>\n  </tbody>\n</table>\n</div>"
     },
     "metadata": {}
    }
   ],
   "source": [
    "data.drop(columns=['RecordID'], inplace=True)\n",
    "data[\"group\"] = data[\"ServerID\"].map({1: \"treatment\", 2:\"control\", 3:\"control\"})\n",
    "data = data[data.LoggedInFlag == 0]\n",
    "data = data[['IP Address','group','VisitPageFlag']].reset_index(drop=True)\n",
    "print(data.shape)\n",
    "display(data.head())"
   ]
  },
  {
   "cell_type": "code",
   "execution_count": 4,
   "metadata": {},
   "outputs": [],
   "source": [
    "experiment = abtest.Experiment(data)"
   ]
  },
  {
   "cell_type": "code",
   "execution_count": 5,
   "metadata": {},
   "outputs": [
    {
     "output_type": "stream",
     "name": "stdout",
     "text": [
      "z statistic: -2.68\np-value: 0.007\nci 95% for control group: [0.086, 0.116]\nci 95% for treatment group: [0.115, 0.148]\n"
     ]
    }
   ],
   "source": [
    "experiment.fit(\"two-tailed\", confidence_level=0.95, power=.8, before_eff=0.09, after_eff=0.12)"
   ]
  },
  {
   "source": [
    "Since `p_value < 0.05`, reject null hypothesis. The new design did perform significantly different (let alone better) than our old one. If the business conversion rate target is 12%, it can be reached with the new design."
   ],
   "cell_type": "markdown",
   "metadata": {}
  }
 ]
}